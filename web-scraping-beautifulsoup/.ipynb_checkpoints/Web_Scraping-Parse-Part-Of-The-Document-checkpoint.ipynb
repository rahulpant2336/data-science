{
 "cells": [
  {
   "cell_type": "code",
   "execution_count": 8,
   "metadata": {},
   "outputs": [],
   "source": [
    "# import the required library\n",
    "from bs4 import BeautifulSoup"
   ]
  },
  {
   "cell_type": "code",
   "execution_count": 9,
   "metadata": {},
   "outputs": [],
   "source": [
    "# sample web document from www.simplilearn.com website\n",
    "data_SL = '''\n",
    "<ul class=\"content-col_discover\">\n",
    "                    <h5>Discover</h5>\n",
    "                    <li><a href=\"https://www.simplilearn.com/resources\">Resources</a></li>\n",
    "                    <li><a href=\"https://www.simplilearn.com/tutorials\">Tutorials</a></li>\n",
    "                    <li><a href=\"https://www.simplilearn.com/career-data-labs\" id=\"lab\">Career data labs</a></li>\n",
    "                    <li><a href=\"http://community.simplilearn.com/\" target=\"_blank\">Simplilearn community</a></li>\n",
    "                    <li><a href=\"https://www.simplilearn.com/feed/\">RSS feed</a></li>\n",
    "</ul>\n",
    "'''"
   ]
  },
  {
   "cell_type": "code",
   "execution_count": 10,
   "metadata": {},
   "outputs": [],
   "source": [
    "# create soup object\n",
    "soup_SL = BeautifulSoup(data_SL,'html.parser')"
   ]
  },
  {
   "cell_type": "code",
   "execution_count": 11,
   "metadata": {},
   "outputs": [
    {
     "name": "stdout",
     "output_type": "stream",
     "text": [
      "\n",
      "\n",
      "Discover\n",
      "Resources\n",
      "Tutorials\n",
      "Career data labs\n",
      "Simplilearn community\n",
      "RSS feed\n",
      "\n",
      "\n"
     ]
    }
   ],
   "source": [
    "# parse only part of the document, text (string) values for tags using getText method\n",
    "print(soup_SL.getText())"
   ]
  },
  {
   "cell_type": "code",
   "execution_count": 12,
   "metadata": {},
   "outputs": [],
   "source": [
    "# import SoupStrainer class for parsing the desired part of the web document\n",
    "from bs4 import SoupStrainer"
   ]
  },
  {
   "cell_type": "code",
   "execution_count": 13,
   "metadata": {},
   "outputs": [],
   "source": [
    "# create object to parse only the id (link) with lab\n",
    "tags_with_LabLink = SoupStrainer(id=\"lab\")"
   ]
  },
  {
   "cell_type": "code",
   "execution_count": 15,
   "metadata": {},
   "outputs": [
    {
     "name": "stdout",
     "output_type": "stream",
     "text": [
      "<a href=\"https://www.simplilearn.com/career-data-labs\" id=\"lab\">\n",
      " Career data labs\n",
      "</a>\n"
     ]
    }
   ],
   "source": [
    "# print the part of the parsed document\n",
    "print(BeautifulSoup(data_SL,'html.parser',parse_only=tags_with_LabLink).prettify())"
   ]
  },
  {
   "cell_type": "code",
   "execution_count": null,
   "metadata": {},
   "outputs": [],
   "source": []
  }
 ],
 "metadata": {
  "kernelspec": {
   "display_name": "Python 3",
   "language": "python",
   "name": "python3"
  },
  "language_info": {
   "codemirror_mode": {
    "name": "ipython",
    "version": 3
   },
   "file_extension": ".py",
   "mimetype": "text/x-python",
   "name": "python",
   "nbconvert_exporter": "python",
   "pygments_lexer": "ipython3",
   "version": "3.6.5"
  }
 },
 "nbformat": 4,
 "nbformat_minor": 2
}
