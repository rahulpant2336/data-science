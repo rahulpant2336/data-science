{
 "cells": [
  {
   "cell_type": "code",
   "execution_count": 18,
   "metadata": {},
   "outputs": [],
   "source": [
    "from bs4 import BeautifulSoup\n",
    "import requests"
   ]
  },
  {
   "cell_type": "code",
   "execution_count": 33,
   "metadata": {},
   "outputs": [],
   "source": [
    "url = 'http://www.cybercuretech.com/'"
   ]
  },
  {
   "cell_type": "code",
   "execution_count": 34,
   "metadata": {},
   "outputs": [],
   "source": [
    "result = requests.get(url)\n",
    "\n",
    "webpage = result.content"
   ]
  },
  {
   "cell_type": "code",
   "execution_count": 35,
   "metadata": {},
   "outputs": [],
   "source": [
    "soup_live = BeautifulSoup(webpage,'html.parser')"
   ]
  },
  {
   "cell_type": "code",
   "execution_count": 36,
   "metadata": {},
   "outputs": [],
   "source": [
    "result.close()"
   ]
  },
  {
   "cell_type": "code",
   "execution_count": 42,
   "metadata": {},
   "outputs": [],
   "source": [
    "title = soup_live.title.string"
   ]
  },
  {
   "cell_type": "code",
   "execution_count": 45,
   "metadata": {},
   "outputs": [
    {
     "data": {
      "text/plain": [
       "<head>\n",
       "<meta charset=\"utf-8\"/>\n",
       "<meta content=\"IE=edge\" http-equiv=\"X-UA-Compatible\"/>\n",
       "<link href=\"https://www.cybercure.in/services/xmlrpc.php\" rel=\"pingback\"/>\n",
       "<script type=\"text/javascript\">\n",
       "\t\tdocument.documentElement.className = 'js';\n",
       "\t</script>\n",
       "<!-- Manifest added by SuperPWA - Progressive Web Apps Plugin For WordPress -->\n",
       "<link href=\"https://www.cybercure.in/services/services/superpwa-manifest.json\" rel=\"manifest\"/>\n",
       "<meta content=\"#D5E0EB\" name=\"theme-color\"/>\n",
       "<link href=\"https://www.cybercure.in/services/wp-content/uploads/2018/11/logo-vertical_new.png\" rel=\"apple-touch-icon\" sizes=\"192x192\"/>\n",
       "<link href=\"https://www.cybercure.in/services/wp-content/uploads/2018/11/logo-splash-screen.png\" rel=\"apple-touch-icon\" sizes=\"512x512\"/>\n",
       "<!-- / SuperPWA.com -->\n",
       "<script>var et_site_url='https://www.cybercure.in/services';var et_post_id='54';function et_core_page_resource_fallback(a,b){\"undefined\"===typeof b&&(b=a.sheet.cssRules&&0===a.sheet.cssRules.length);b&&(a.onerror=null,a.onload=null,a.href?a.href=et_site_url+\"/?et_core_page_resource=\"+a.id+et_post_id:a.src&&(a.src=et_site_url+\"/?et_core_page_resource=\"+a.id+et_post_id))}\n",
       "</script><title>CyberCure Technologies | Network Security Audits | Web VAPT | Android app penetration Testing</title>\n",
       "<!-- All in One SEO Pack 2.8 by Michael Torbert of Semper Fi Web Design[1157,1263] -->\n",
       "<meta content=\"CyberCure India - A delhi based company, which provides services like Network Security Audits, ISMS Audits, Web VAPT Penetartion testing\" name=\"description\">\n",
       "<link href=\"https://www.cybercure.in/services/\" rel=\"canonical\">\n",
       "<script type=\"text/javascript\">\n",
       "\t\t\t\twindow.ga=window.ga||function(){(ga.q=ga.q||[]).push(arguments)};ga.l=+new Date;\n",
       "\t\t\t\tga('create', 'UA-122307402-1', { 'cookieDomain': 'www.cybercure.in' } );\n",
       "\t\t\t\t// Plugins\n",
       "\t\t\t\t\n",
       "\t\t\t\tga('send', 'pageview');\n",
       "\t\t\t</script>\n",
       "<script async=\"\" src=\"https://www.google-analytics.com/analytics.js\"></script>\n",
       "<!-- /all in one seo pack -->\n",
       "<link href=\"//fonts.googleapis.com\" rel=\"dns-prefetch\">\n",
       "<link href=\"//s.w.org\" rel=\"dns-prefetch\">\n",
       "<link href=\"https://www.cybercure.in/services/feed/\" rel=\"alternate\" title=\"CyberCure Technologies » Feed\" type=\"application/rss+xml\"/>\n",
       "<link href=\"https://www.cybercure.in/services/comments/feed/\" rel=\"alternate\" title=\"CyberCure Technologies » Comments Feed\" type=\"application/rss+xml\"/>\n",
       "<script type=\"text/javascript\">\n",
       "\t\t\twindow._wpemojiSettings = {\"baseUrl\":\"https:\\/\\/s.w.org\\/images\\/core\\/emoji\\/11\\/72x72\\/\",\"ext\":\".png\",\"svgUrl\":\"https:\\/\\/s.w.org\\/images\\/core\\/emoji\\/11\\/svg\\/\",\"svgExt\":\".svg\",\"source\":{\"concatemoji\":\"https:\\/\\/www.cybercure.in\\/services\\/wp-includes\\/js\\/wp-emoji-release.min.js?ver=4.9.9\"}};\n",
       "\t\t\t!function(a,b,c){function d(a,b){var c=String.fromCharCode;l.clearRect(0,0,k.width,k.height),l.fillText(c.apply(this,a),0,0);var d=k.toDataURL();l.clearRect(0,0,k.width,k.height),l.fillText(c.apply(this,b),0,0);var e=k.toDataURL();return d===e}function e(a){var b;if(!l||!l.fillText)return!1;switch(l.textBaseline=\"top\",l.font=\"600 32px Arial\",a){case\"flag\":return!(b=d([55356,56826,55356,56819],[55356,56826,8203,55356,56819]))&&(b=d([55356,57332,56128,56423,56128,56418,56128,56421,56128,56430,56128,56423,56128,56447],[55356,57332,8203,56128,56423,8203,56128,56418,8203,56128,56421,8203,56128,56430,8203,56128,56423,8203,56128,56447]),!b);case\"emoji\":return b=d([55358,56760,9792,65039],[55358,56760,8203,9792,65039]),!b}return!1}function f(a){var c=b.createElement(\"script\");c.src=a,c.defer=c.type=\"text/javascript\",b.getElementsByTagName(\"head\")[0].appendChild(c)}var g,h,i,j,k=b.createElement(\"canvas\"),l=k.getContext&&k.getContext(\"2d\");for(j=Array(\"flag\",\"emoji\"),c.supports={everything:!0,everythingExceptFlag:!0},i=0;i<j.length;i++)c.supports[j[i]]=e(j[i]),c.supports.everything=c.supports.everything&&c.supports[j[i]],\"flag\"!==j[i]&&(c.supports.everythingExceptFlag=c.supports.everythingExceptFlag&&c.supports[j[i]]);c.supports.everythingExceptFlag=c.supports.everythingExceptFlag&&!c.supports.flag,c.DOMReady=!1,c.readyCallback=function(){c.DOMReady=!0},c.supports.everything||(h=function(){c.readyCallback()},b.addEventListener?(b.addEventListener(\"DOMContentLoaded\",h,!1),a.addEventListener(\"load\",h,!1)):(a.attachEvent(\"onload\",h),b.attachEvent(\"onreadystatechange\",function(){\"complete\"===b.readyState&&c.readyCallback()})),g=c.source||{},g.concatemoji?f(g.concatemoji):g.wpemoji&&g.twemoji&&(f(g.twemoji),f(g.wpemoji)))}(window,document,window._wpemojiSettings);\n",
       "\t\t</script>\n",
       "<meta content=\"Divi v.3.17.2\" name=\"generator\"><style type=\"text/css\">\n",
       "img.wp-smiley,\n",
       "img.emoji {\n",
       "\tdisplay: inline !important;\n",
       "\tborder: none !important;\n",
       "\tbox-shadow: none !important;\n",
       "\theight: 1em !important;\n",
       "\twidth: 1em !important;\n",
       "\tmargin: 0 .07em !important;\n",
       "\tvertical-align: -0.1em !important;\n",
       "\tbackground: none !important;\n",
       "\tpadding: 0 !important;\n",
       "}\n",
       "</style>\n",
       "<link href=\"https://www.cybercure.in/services/wp-content/plugins/wp-statistics/assets/css/frontend.css?ver=12.5.2\" id=\"wpstatistics-css-css\" media=\"all\" rel=\"stylesheet\" type=\"text/css\"/>\n",
       "<link href=\"https://www.cybercure.in/services/wp-content/plugins/divi-100-back-to-top/assets/css/style.css?ver=20160602\" id=\"custom-back-to-top-css\" media=\"all\" rel=\"stylesheet\" type=\"text/css\"/>\n",
       "<link href=\"https://fonts.googleapis.com/css?family=Open+Sans:300italic,400italic,600italic,700italic,800italic,400,300,600,700,800&amp;subset=latin,latin-ext\" id=\"divi-fonts-css\" media=\"all\" rel=\"stylesheet\" type=\"text/css\"/>\n",
       "<link href=\"https://www.cybercure.in/services/wp-content/themes/Divi/style.css?ver=3.17.2\" id=\"divi-style-css\" media=\"all\" rel=\"stylesheet\" type=\"text/css\"/>\n",
       "<link href=\"https://fonts.googleapis.com/css?family=Oswald%3A200%2C300%2Cregular%2C500%2C600%2C700%7CAbel%3Aregular%7CBevan%3Aregular&amp;ver=4.9.9#038;subset=cyrillic,vietnamese,latin,latin-ext\" id=\"et-builder-googlefonts-cached-css\" media=\"all\" rel=\"stylesheet\" type=\"text/css\"/>\n",
       "<link href=\"https://www.cybercure.in/services/wp-includes/css/dashicons.min.css?ver=4.9.9\" id=\"dashicons-css\" media=\"all\" rel=\"stylesheet\" type=\"text/css\"/>\n",
       "<script src=\"https://www.cybercure.in/services/wp-includes/js/jquery/jquery.js?ver=1.12.4\" type=\"text/javascript\"></script>\n",
       "<script src=\"https://www.cybercure.in/services/wp-includes/js/jquery/jquery-migrate.min.js?ver=1.4.1\" type=\"text/javascript\"></script>\n",
       "<link href=\"https://www.cybercure.in/services/wp-json/\" rel=\"https://api.w.org/\"/>\n",
       "<link href=\"https://www.cybercure.in/services/xmlrpc.php?rsd\" rel=\"EditURI\" title=\"RSD\" type=\"application/rsd+xml\"/>\n",
       "<link href=\"https://www.cybercure.in/services/wp-includes/wlwmanifest.xml\" rel=\"wlwmanifest\" type=\"application/wlwmanifest+xml\"/>\n",
       "<meta content=\"WordPress 4.9.9\" name=\"generator\"/>\n",
       "<link href=\"https://www.cybercure.in/services/\" rel=\"shortlink\"/>\n",
       "<link href=\"https://www.cybercure.in/services/wp-json/oembed/1.0/embed?url=https%3A%2F%2Fwww.cybercure.in%2Fservices%2F\" rel=\"alternate\" type=\"application/json+oembed\"/>\n",
       "<link href=\"https://www.cybercure.in/services/wp-json/oembed/1.0/embed?url=https%3A%2F%2Fwww.cybercure.in%2Fservices%2F&amp;format=xml\" rel=\"alternate\" type=\"text/xml+oembed\"/>\n",
       "<!-- Stream WordPress user activity plugin v3.2.3 -->\n",
       "<!-- Analytics by WP-Statistics v12.5.2 - https://wp-statistics.com/ -->\n",
       "<meta content=\"width=device-width, initial-scale=1.0, maximum-scale=1.0, user-scalable=0\" name=\"viewport\"/><link href=\"https://www.cybercure.in/services/wp-content/uploads/2017/07/cybercurefavicon.png\" rel=\"shortcut icon\"/><link href=\"https://www.cybercure.in/services/wp-content/cache/et/global/et-divi-customizer-global-15465114106341.min.css\" id=\"et-divi-customizer-global-cached-inline-styles\" onerror=\"et_core_page_resource_fallback(this, true)\" onload=\"et_core_page_resource_fallback(this)\" rel=\"stylesheet\"/></meta></link></link></link></meta></head>"
      ]
     },
     "execution_count": 45,
     "metadata": {},
     "output_type": "execute_result"
    }
   ],
   "source": [
    "soup_live.head"
   ]
  },
  {
   "cell_type": "code",
   "execution_count": null,
   "metadata": {},
   "outputs": [],
   "source": []
  }
 ],
 "metadata": {
  "kernelspec": {
   "display_name": "Python 3",
   "language": "python",
   "name": "python3"
  },
  "language_info": {
   "codemirror_mode": {
    "name": "ipython",
    "version": 3
   },
   "file_extension": ".py",
   "mimetype": "text/x-python",
   "name": "python",
   "nbconvert_exporter": "python",
   "pygments_lexer": "ipython3",
   "version": "3.6.5"
  }
 },
 "nbformat": 4,
 "nbformat_minor": 2
}
